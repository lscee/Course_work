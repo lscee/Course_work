{
 "cells": [
  {
   "cell_type": "markdown",
   "source": [
    "# Assignment 1: CRF sequence tagging for Movie Queries\n",
    "\n",
    "This coursework involves optimizing the performance of a **Conditional Random Field (CRF) sequence tagger** for movie trivia questions and answers data, which consist of instances of data of word sequences with the target classes/labels for each word in a **BIO (Beginning, Inside, Outside)** tagging format. \n",
    "\n",
    "This assignment involves reading in, pre-processing, training and developing your tagger on the training data from *trivia10k13train.bio.txt*, and finally testing your tagger on the data *trivia10k13test.bio.txt*, attempting to get the best performing tagger across the different labels in your development process. Parts of these steps have been done for you already. You are going to optimize the performance of the tagger by improving its feature extraction function on the word sequences, incorporating POS tagging first, then the final exercise is to optimize the performance by all legal means neccessary (except looking at the test data). Run and follow the code below and then attempt the questions.\n",
    "\n",
    "**NOTEBOOK/CODE SUBMISSION: PLEASE SUBMIT IN NOTEBOOK FORM IF YOU CAN RATHER THAN IN A PYTHON FILE, MAKING YOUR CODE ADDITIONS TO THIS TEMPLATE FILE. SUBMISSION MUST BE IN PYTHON 3.7+ AND YOU MUST HAVE RUN THE CODE RUNNING FROM TOP TO BOTTOM BEFORE SUBMISSION.**\n",
    "\n",
    "**WRITTEN REPORT SUBMISSION: YOU MUST INCLUDE A 2-PAGE MAX LENGTH REPORT SUMMARIZING HOW YOU WENT ABOUT ACHIEVING EACH QUESTION, TO BE SUBMITTED WITH YOUR CODE. PLEASE WRITE SUCCINCTLY AND CLEARLY, IN THE STYLE OF A SCIENTIFIC NLP CONFERENCE PAPER. AUTOMATIC PLAGIARISM DETECTION WILL BE RUN ON THESE FILES.**"
   ],
   "metadata": {}
  },
  {
   "cell_type": "code",
   "execution_count": 1,
   "source": [
    "# You may need to run this first- uncomment if so\n",
    "#!pip install python-crfsuite"
   ],
   "outputs": [],
   "metadata": {}
  },
  {
   "cell_type": "code",
   "execution_count": 2,
   "source": [
    "import os\n",
    "import sys\n",
    "\n",
    "from copy import deepcopy\n",
    "from collections import Counter\n",
    "from nltk.tag import CRFTagger\n",
    "\n",
    "from sklearn.metrics import confusion_matrix\n",
    "from sklearn.metrics import precision_recall_fscore_support\n",
    "from sklearn.metrics import classification_report\n",
    "\n",
    "from matplotlib import pyplot as plt\n",
    "import numpy as np\n",
    "\n",
    "import re\n",
    "import unicodedata"
   ],
   "outputs": [],
   "metadata": {}
  },
  {
   "cell_type": "code",
   "execution_count": 3,
   "source": [
    "def get_raw_data_from_bio_file(fpath):\n",
    "    \"\"\"A simple function to read in from a one-word-per-line BIO\n",
    "    (Beginning, Inside, Outside) tagged corpus, tab separated\n",
    "    and each example sentence/text separated with a blank line.\n",
    "    The data is already tokenized in a simple way.\n",
    "    e.g.:\n",
    "    \n",
    "    B-Actor\tsteve\n",
    "    I-Actor\tmcqueen\n",
    "    O\tprovided\n",
    "    O\ta\n",
    "    B-Plot\tthrilling\n",
    "    I-Plot\tmotorcycle\n",
    "    I-Plot\tchase\n",
    "    I-Plot\tin\n",
    "    I-Plot\tthis\n",
    "    B-Opinion\tgreatest\n",
    "    I-Opinion\tof\n",
    "    I-Opinion\tall\n",
    "    B-Plot\tww\n",
    "    I-Plot\t2\n",
    "    I-Plot\tprison\n",
    "    I-Plot\tescape\n",
    "    I-Plot\tmovies\n",
    "    \n",
    "    returns a list of lists of tuples of (word, tag) tuples\n",
    "    \"\"\"\n",
    "    f = open(fpath)\n",
    "    data = []  # the data, a list of lists of (word, tag) tuples\n",
    "    current_sent = []  # data for current sentence/example\n",
    "    for line in f:\n",
    "        if line == \"\\n\":  # each instance has a blank line separating it from next one\n",
    "            # solution\n",
    "            data.append(current_sent)\n",
    "            current_sent = []\n",
    "            continue\n",
    "        line_data = line.strip(\"\\n\").split(\"\\t\")\n",
    "        current_sent.append((line_data[1], line_data[0]))\n",
    "    f.close()\n",
    "    return data"
   ],
   "outputs": [],
   "metadata": {}
  },
  {
   "cell_type": "code",
   "execution_count": 4,
   "source": [
    "raw_training_data = get_raw_data_from_bio_file(\"trivia10k13train.bio.txt\") "
   ],
   "outputs": [],
   "metadata": {}
  },
  {
   "cell_type": "code",
   "execution_count": 5,
   "source": [
    "# have a look at the first example\n",
    "print(raw_training_data[0])"
   ],
   "outputs": [
    {
     "output_type": "stream",
     "name": "stdout",
     "text": [
      "[('steve', 'B-Actor'), ('mcqueen', 'I-Actor'), ('provided', 'O'), ('a', 'O'), ('thrilling', 'B-Plot'), ('motorcycle', 'I-Plot'), ('chase', 'I-Plot'), ('in', 'I-Plot'), ('this', 'I-Plot'), ('greatest', 'B-Opinion'), ('of', 'I-Opinion'), ('all', 'I-Opinion'), ('ww', 'B-Plot'), ('2', 'I-Plot'), ('prison', 'I-Plot'), ('escape', 'I-Plot'), ('movies', 'I-Plot')]\n"
     ]
    }
   ],
   "metadata": {}
  },
  {
   "cell_type": "code",
   "execution_count": 6,
   "source": [
    "print(len(raw_training_data), \"instances\")\n",
    "print(sum([len(sent) for sent in raw_training_data]), \"words\")"
   ],
   "outputs": [
    {
     "output_type": "stream",
     "name": "stdout",
     "text": [
      "7816 instances\n",
      "158823 words\n"
     ]
    }
   ],
   "metadata": {}
  },
  {
   "cell_type": "code",
   "execution_count": 7,
   "source": [
    "def preProcess(example):\n",
    "    \"\"\"Function takes in list of (word, bio-tag) pairs, e.g.:\n",
    "        [('steve', 'B-Actor'), ('mcqueen', 'I-Actor'), ('provided', 'O'),\n",
    "        ('a', 'O'), ('thrilling', 'B-Plot'), ('motorcycle', 'I-Plot'),\n",
    "        ('chase', 'I-Plot'), ('in', 'I-Plot'), ('this', 'I-Plot'),\n",
    "        ('greatest', 'B-Opinion'), ('of', 'I-Opinion'), ('all', 'I-Opinion'),\n",
    "        ('ww', 'B-Plot'), ('2', 'I-Plot'), ('prison', 'I-Plot'),\n",
    "        ('escape', 'I-Plot'), ('movies', 'I-Plot')]\n",
    "        \n",
    "    returns new (token, bio-tag) pairs with preprocessing applied to the words\"\"\"\n",
    "    tagged_word=[]\n",
    "    preprocessed_example=[]\n",
    "    posttagger = CRFTagger()\n",
    "    posttagger.set_model_file(\"crf_pos.tagger\")\n",
    "    #print(example)\n",
    "    word_set =[] \n",
    "    for word in example:\n",
    "        #print(word[0])\n",
    "        word_set.append(word[0])\n",
    "    word_set=posttagger.tag(word_set)\n",
    "    #print(word_set)\n",
    "    for word,word_tag in zip(example,word_set):\n",
    "        tagged_word.append(word[0]+\"@\"+word_tag[1])\n",
    "    #print(preprocessed_example)\n",
    "    for word,new_word in zip(example,tagged_word):\n",
    "        preprocessed_example.append((new_word,word[1]))\n",
    "    #print(preprocessed_example)\n",
    "    #preprocessed_example=posttagger.tag(word_set))\n",
    "    #preprocessed_example = example \n",
    "    return preprocessed_example"
   ],
   "outputs": [],
   "metadata": {}
  },
  {
   "cell_type": "code",
   "execution_count": 8,
   "source": [
    "training_data = [preProcess(example) for example in raw_training_data]\n",
    "print(training_data[0])\n",
    "#print(training_data[0])\n",
    "#print(raw_training_data[0])"
   ],
   "outputs": [
    {
     "output_type": "stream",
     "name": "stdout",
     "text": [
      "[('steve@PRPVBP', 'B-Actor'), ('mcqueen@VBN', 'I-Actor'), ('provided@VBN', 'O'), ('a@DT', 'O'), ('thrilling@NN', 'B-Plot'), ('motorcycle@NN', 'I-Plot'), ('chase@NN', 'I-Plot'), ('in@IN', 'I-Plot'), ('this@DT', 'I-Plot'), ('greatest@JJS', 'B-Opinion'), ('of@IN', 'I-Opinion'), ('all@DT', 'I-Opinion'), ('ww@NNP', 'B-Plot'), ('2@NNP', 'I-Plot'), ('prison@NNP', 'I-Plot'), ('escape@NN', 'I-Plot'), ('movies@NNS', 'I-Plot')]\n"
     ]
    }
   ],
   "metadata": {}
  },
  {
   "cell_type": "code",
   "execution_count": 9,
   "source": [
    "#####################################\n",
    "#####################################\n",
    "#####################################\n",
    "# check the effect of pre-processing\n",
    "#task 1 overhere \n",
    "#split by oder\n",
    "split_size = 0.8\n",
    "split_len = int(len(training_data) * split_size)\n",
    "training_data_80 = training_data[0 : split_len]\n",
    "test_data_20 = training_data[split_len : ]\n",
    "\n",
    "print(len(training_data))\n",
    "print(len(training_data_80))\n",
    "print(len(test_data_20))"
   ],
   "outputs": [
    {
     "output_type": "stream",
     "name": "stdout",
     "text": [
      "7816\n",
      "6252\n",
      "1564\n"
     ]
    }
   ],
   "metadata": {}
  },
  {
   "cell_type": "code",
   "execution_count": 10,
   "source": [
    "_pattern = re.compile(r\"\\d\")  # to recognize numbers/digits\n",
    "\n",
    "\n",
    "# This is the 'out-of-the-box' get_features function from the nltk CRF tagger\n",
    "def get_features(tokens , idx ):\n",
    "    \"\"\"\n",
    "    Extract basic features about this word including\n",
    "         - Current Word\n",
    "         - Is Capitalized ?\n",
    "         - Has Punctuation ?\n",
    "         - Has Number ?\n",
    "         - Suffixes up to length 3\n",
    "    Note that : we might include feature over previous word, next word ect.\n",
    "\n",
    "    :return : a list which contains the features\n",
    "    :rtype : list(str)\n",
    "\n",
    "    \"\"\"\n",
    "    N = 1\n",
    "    token = tokens[idx]\n",
    "    feature_list = []\n",
    "    Pos = \"@\"\n",
    "    try:\n",
    "        Pre = tokens[(idx-N):idx]\n",
    "        Suf = tokens[(idx+1):(idx+N+1)]\n",
    "    except:\n",
    "            print(\"index err\")\n",
    "    if not token:\n",
    "        return feature_list\n",
    "    \n",
    "    # Capitalization\n",
    "    if token[0].isupper():\n",
    "        feature_list.append(\"CAPITALIZATION\")\n",
    "\n",
    "    # Number\n",
    "    if re.search(_pattern, token) is not None:\n",
    "        feature_list.append(\"HAS_NUM\")\n",
    "\n",
    "    # Punctuation\n",
    "    punc_cat = set([\"Pc\", \"Pd\", \"Ps\", \"Pe\", \"Pi\", \"Pf\", \"Po\"])\n",
    "    if all(unicodedata.category(x) in punc_cat for x in token):\n",
    "        feature_list.append(\"PUNCTUATION\")\n",
    "\n",
    "    #####################################\n",
    "    #####################################\n",
    "    #####################################\n",
    "    #compare features below for task 5\n",
    "\n",
    "    # feature prelifx\n",
    "    # if len(token) > 1:\n",
    "    #    feature_list.append(\"PRE_\" + token[:1])\n",
    "    # if len(token) > 2:\n",
    "    #     feature_list.append(\"PRE_\" + token[:2])\n",
    "    # if len(token) > 3:\n",
    "    #     feature_list.append(\"PRE_\" + token[:3])\n",
    "     \n",
    "    # # feature pre word & pre POS tag\n",
    "    # if Pre:\n",
    "    #     for pre in Pre:\n",
    "    #         feature_list.append(\"Pre_Word_\" + pre.split(Pos)[0])         \n",
    "    #         feature_list.append(\"Pre_POS_\" + pre.split(Pos)[1])\n",
    "\n",
    "    # #feature sufflix\n",
    "\n",
    "    # if len(token) > 1:\n",
    "    #    feature_list.append(\"SUF_\" + token[-1:])\n",
    "    # if len(token) > 2:\n",
    "    #     feature_list.append(\"SUF_\" + token[-2:])\n",
    "    # if len(token) > 3:\n",
    "    #     feature_list.append(\"SUF_\" + token[-3:])\n",
    "\n",
    "    #feature suff word & wuff POS tag\n",
    "    \n",
    "    # if Suf:\n",
    "    #     for suff in Suf:\n",
    "    #         feature_list.append(\"SUF_Wod\" + suff.split(Pos)[0])\n",
    "    #         feature_list.append(\"SUF_Pos\" + suff.split(Pos)[1])\n",
    "\n",
    "    if Pos in token:\n",
    "        word = token.split(Pos)\n",
    "        # feature_list.append(\"POS_\" + word[1])\n",
    "        feature_list.append(\"WORD_\" + word[0])\n",
    "    else:\n",
    "        feature_list.append(\"WORD_\" + token)\n",
    "    print(feature_list)\n",
    "    return feature_list"
   ],
   "outputs": [],
   "metadata": {}
  },
  {
   "cell_type": "code",
   "execution_count": 11,
   "source": [
    "# Train the CRF BIO-tag tagger\n",
    "TAGGER_PATH = \"crf_nlu.tagger\"  # path to the tagger- it will save/access the model from here\n",
    "ct = CRFTagger(feature_func=get_features,training_opt={\"feature.minfreq\":1})  # initialize tagger with get_features function\n",
    "\n",
    "print(\"training tagger...\")\n",
    "ct.train(training_data, TAGGER_PATH)\n",
    "print(\"done\")"
   ],
   "outputs": [
    {
     "output_type": "stream",
     "name": "stdout",
     "text": [
      "training tagger...\n",
      "done\n"
     ]
    }
   ],
   "metadata": {}
  },
  {
   "cell_type": "code",
   "execution_count": 12,
   "source": [
    "# let's see how it does in testing on sentences\n",
    "def print_tags(sentence):\n",
    "    # a method to print out the sequence with its tags\n",
    "    tokens = sentence.split()\n",
    "    tags = [p[1] for p in ct.tag(tokens)]\n",
    "    #print(tags)\n",
    "    for token, tag in zip(tokens, tags):\n",
    "        print(f'{token:12s}{tag}')"
   ],
   "outputs": [],
   "metadata": {}
  },
  {
   "cell_type": "code",
   "execution_count": 13,
   "source": [
    "# an example from the corpus\n",
    "#example = \"steve mcqueen provided a thrilling motorcycle chase in this greatest of all ww 2 prison escape movies\"\n",
    "#print_tags(example)"
   ],
   "outputs": [],
   "metadata": {}
  },
  {
   "cell_type": "markdown",
   "source": [],
   "metadata": {}
  },
  {
   "cell_type": "code",
   "execution_count": 14,
   "source": [
    "# a novel, unseen example we've just made up\n",
    "#print_tags(\"batman is the main character in batman begins\")"
   ],
   "outputs": [],
   "metadata": {}
  },
  {
   "cell_type": "code",
   "execution_count": 15,
   "source": [
    "# another example\n",
    "#print_tags(\"the sound of music\")"
   ],
   "outputs": [],
   "metadata": {}
  },
  {
   "cell_type": "code",
   "execution_count": 16,
   "source": [
    "# load tagger from saved file\n",
    "ct = CRFTagger(feature_func=get_features,training_opt={\"feature.minfreq\":1})  # initialize tagger\n",
    "ct.set_model_file(TAGGER_PATH)  # load model from file\n",
    "\n",
    "# prepare the test data:\n",
    "raw_test_data = get_raw_data_from_bio_file(\"trivia10k13test.bio.txt\") \n",
    "test_data = [preProcess(example) for example in raw_test_data]\n",
    "print(len(test_data_20), \"instances\")\n",
    "print(sum([len(sent) for sent in test_data_20]), \"words\")"
   ],
   "outputs": [
    {
     "output_type": "stream",
     "name": "stdout",
     "text": [
      "1564 instances\n",
      "31304 words\n"
     ]
    }
   ],
   "metadata": {}
  },
  {
   "cell_type": "code",
   "execution_count": 17,
   "source": [
    "print(\"testing tagger...\")\n",
    "preds = []\n",
    "y_test = []\n",
    "sentence = \"\"\n",
    "sentence_group = []\n",
    "Lowest_precision_class=[\"I-Soundtrack\", \"B-Soundtrack\", \"I-Opinion\", \"B-Plot\", \"B-Opinion\"] #task 2 class\n",
    "Lowest_recall_class=[\"I-Soundtrack\", \"B-Soundtrack\", \"I-Opinion\", \"I-Character_Name\", \"B-Character_Name\"] #task 3 class\n",
    "for sent in test_data_20:\n",
    "    sent_preds = [x[1] for x in ct.tag([s[0] for s in sent])]\n",
    "    #print(sent_preds)\n",
    "    sent_true = [s[1] for s in sent]\n",
    "    #print(sent_true[0])\n",
    "    \n",
    "    for tag_true,tag_preds in zip(sent_true,sent_preds):\n",
    "        # if tag_preds in Lowest_precision_class:\n",
    "        #     if tag_preds != tag_true:#FP\n",
    "        if tag_true in Lowest_recall_class:      \n",
    "            if  tag_true != tag_preds:#FN\n",
    "                sentence = \"\"\n",
    "                for i in sent:\n",
    "                    sentence += i[0].split(\"@\")[0] + \" \" #take off POS coming from task4\n",
    "                sentence_group.append(sentence)\n",
    "                break\n",
    "    #print(sentence)\n",
    "    preds.extend(sent_preds)\n",
    "    y_test.extend(sent_true)\n",
    "#####################################\n",
    "#####################################\n",
    "#####################################\n",
    "#print answers to task2/3\n",
    "for sent in sentence_group:\n",
    "    print(sent)\n",
    "#print(len(test_data_20))\n",
    "#print(len(sentence_group))#how many wrong sentences\n",
    "print(\"done\")"
   ],
   "outputs": [
    {
     "output_type": "stream",
     "name": "stdout",
     "text": [
      "testing tagger...\n",
      "one of the most memorable scenes from this film involve a boy riding his bike through the sky \n",
      "orson wells psychological profile of an eccentric billionaire has been voted the greatest movie of all time by some \n",
      "paul newman stars as rocky graziano in this biographical drama about a criminal turned boxer \n",
      "penny chenery tweedy and colleagues guide her long shot but precocious stallion to set in 1973 the unbeaten record for winning the triple crown is the plot of this 2010 family drama \n",
      "perseus mortal son of zeus battles the minions of the underworld to stop them from conquering the earth and the heavens in this 2010 action adventure fantasy \n",
      "peter jackson directed this smash hit starring jack black as a 1930 s film maker on a mission to make an unforgettable nature documentary who gets more than he bargained for \n",
      "rapunzel is having a bad hair day she s out of the tower and off to discover life in this 2010 animated feature \n",
      "red riding hood is training in the group of sister hoods when she and the wolf are called to examine the sudden mysterious disappearance of hansel and gretel in this animated feature \n",
      "reese witherspoon won an oscar for best actress for playing the wife of johnny cash in this film \n",
      "richard gere took tap dance lessons for three months to prepare for his role as the criminal defense attorney billy flynn in this 2002 musical \n",
      "robert duvall is bank robber outlaw jesse james in this movie about a bank robbery gone wrong \n",
      "robert redford directed ralph fiennes as charles van doren in this 1994 film set in the 1950 s \n",
      "rufus t firefly is named president dictator of bankrupt freedonia and declares war on neighboring sylvania over the love of wealthy mrs teasdale is the plot of this classic comedy starring all three of the marx brothers \n",
      "sarah jessica parker is kate reddy a finance executive who is the breadwinner for her husband and two kids in this 2011 movie based on the novel by allison pearson \n",
      "sean anderson partners with his mom s husband on a mission to find his grandfather who is thought to be missing in a mythical location in this 2012 adventure starring dwayne johnson \n",
      "stacy keach and james keach play frank and jesse james in this 1980 western about the outlaws and their gang \n",
      "stopped they must be on this all depends only a fully trained jedi knight with the force as his ally will conquer vader in this 1980 george lucas sequel \n",
      "the debut movie of the famous director kevin smith featuring his breakout characters jay and silent bob \n",
      "the last part of a vampire love story between bella and edward \n",
      "the movie i m thinking of has a rabbit named thumper and a faun that grows to a female deer who the movie is named after \n",
      "the movie where marty mcfly and doc brown go back in time and have to get marty s mom to marry his dad \n",
      "the movie where two of the characters have dogs with country singers names one was willie nelson and the other dolly parton \n",
      "the second movie in a popular fantasy trilogy this film introduces a character named treebeard \n",
      "the story of avant garde comedian andy kaufman and his notorious antics on the stage \n",
      "the story of t e lawrence a flamboyant and controversial british military figure and his conflicted loyalties during his world war i service in the middle east staring peter o toole \n",
      "this 1948 american film written by john huston starred humphrey bogart as the character dobbs \n",
      "this 1959 billy wilder comedy starred tony curtis and jack lemmon in drag plus marilyn monroe as sugar kane \n",
      "this 1962 classic drama features a little girl named scout who lived in the depression era south \n",
      "this 1990 s animated feature taught us the song hakuna matata which championed a down to earth problem free philosophy \n",
      "this 1997 smash hit is loosely based on a famous cruise ship that sank in 1912 \n",
      "this 2010 american supernatural horror film starred sprague grayden as kristi and molly ephraim as ali \n",
      "this 2011 superhero movie stars seth rogen as an unlikely hero who starts a crime fighting career with the help of his father s assistant kato \n",
      "this 2012 movie is eye candy for the ladies this movie is set in the world of the male stripper \n",
      "this action film features aaaron johnson as a high school student turned vigilante nicholas cage and chloe moretz are also featured as big daddy and hit girl \n",
      "this action movie follows the actions of a team of super heroes including magneto \n",
      "this action packed futuristic thriller about time travel stars bruce willis and joseph gordon levitt as a 20 something willis \n",
      "this alfred hitchcock film includes a motel manager norman bates in an infamous shower scene \n",
      "this american film features single serving friends power animals project mayhem and jack s raging bile duct \n",
      "this animated sequel features ben stiller as alex the lion and his continuing adventures in africa \n",
      "this black and white comedy directed by mel brooks stars gene wilder and peter boyle and features the classic song puttin on the ritz \n",
      "this children s movie is about a young boy named greg heffley who enters the sixth grade and tries to make it through the school year unscathed \n",
      "this classic 1938 warner bros gangster picture stars james cagney pat o brien humphrey bogart and the dead end kids \n",
      "this classic film from stanley kubrick stars malcolm mcdowell as alex delarge a rebellious youth who wreaks havoc with his fellow droogs \n",
      "this computer animated comedy features the voice of steve carrell as the villainous but likeable gru \n",
      "this disney film was a long awaited sequel to the science fiction thriller starring jeff bridges in the world of living computer programs \n",
      "this horror movie features one of the most famous villains in the genre who kills victims in their nightmares with his signature bladed hands \n",
      "this horror movie takes place at a summer camp and spawned a series of movies about a gruesome killed named jason \n",
      "this is one of the most famous kung fu movies of all time about two warriors in pursuit of a stolen sword \n",
      "this james bond film starring daniel craig features a theme song by adele \n",
      "this marvel superhero film assembles captain america iron man thor and the hulk to battle an evil being named loki \n",
      "this modern batman film pits batman against bane and catwoman in a besieged new york city \n",
      "this modern crime film features robert downey jr as a bumbling crook caught up in a mystery alongside val kilmer as private investigator gay perry \n",
      "this modern twist on the superhero genre is a found footage movie about a group of teenagers who accidentally gain superpowers \n",
      "this movie about gold prospectors in mexico is often considered one of humphry bogart s best works \n",
      "this movie features scientifically inaccurate but scary and intense recreations of a past extinct species \n",
      "this movie is about a lone avatar who has the power to manipulate all four elements he teams up with katara who is a waterbender \n",
      "this movie stars cary elwes as westley or could it be the dread pirate roberts \n",
      "this stop motion animated feature directed by henry selick shows the adventures of jack skellington who tries to spread the magic of christmas \n",
      "this surreal romp from 1967 stars the beatles and features some of their famous hit songs \n",
      "tim burton used stop motion animation to tell the story of jack skellington in what 1993 disney movie \n",
      "two good friends mike and sully team up to scare as many children as possible but encounter something that no one has ever encountered before in this film \n",
      "werner herzog wrote and directed this biographical documentary about timothy treadwell and amie huguenard bear activists who were killed while living among them in alaska \n",
      "what s that awesome funny movie with jennifer anniston the guys start a pyramid scheme and almost get fired one man is named michael bolton \n",
      "what s that stupid overrated movie about interplanetary fighting there are jedis and one of the main characters is harrison ford \n",
      "what s that super slow paced movie with ryan gostling where nobody says anything the whole time \n",
      "what s the camp comedy musical classic that features susan sarandon s first role and the song time warp \n",
      "what s the movie about zimba leaving his jungle after believing he was responsible for his father s death \n",
      "what s the name of the first pixar movie where tim allen and tom hanks voice woody and buzz lightyear \n",
      "what s the name of the remake of moe larry and curly where larry david plays a nun \n",
      "what s the one with that guy from the matrix and the girl from titanic where they try to save the world \n",
      "what s the title of wes craven s horror film where serial killer freddy krueger kills people in their dreams \n",
      "what 1930 ernst lubitsch film starring jeanette macdonald took place in a famous european gambling city and featured the song beyond the blue horizon \n",
      "what 1934 jean vigo film called one of the best of all time starred michel simon as p re jules \n",
      "what 1942 movie garnered a best music original song oscar win to irving berlin for his song white christmas \n",
      "what 1946 frank capra movie centers around the life of george bailey in bedford falls \n",
      "what 1957 king vidor movie starring audrey hepburn and henry fonda centered around napoleon s tumultuous relations with russia \n",
      "what 1958 alfred hitchcock film based on a novel by boileau narcejac starred james stewart as detective john scottie ferguson \n",
      "what 1965 cartoon is a timeless classic starring the lovable charlie brown and his dog snoopy \n",
      "what 1965 musical based on a rogers and hammerstein musical of the same name features the von trapp family singers \n",
      "what 1974 stop motion animated tv special features kris kringle running into the heater miser \n",
      "what 1981 biopic starred faye dunaway and depicted the abusive adoptive upbringing of christina crawford \n",
      "what 1983 harold ramis comedy finds the griswold family cross country driving to theme park walley world \n",
      "what 1987 brian depalma film features kevin costner as federal agent eliot ness out to stop al capone \n",
      "what 1987 movie featured an evil prince his six fingered henchman and a swordsman hero named inigo montoya \n",
      "what 1989 comedy features chevy chase as clark griswold and beverly d angelo as his wife ellen \n",
      "what 1990 crime drama had robert de niro playing a mob type gangster named james conway \n",
      "what 1990 martin scorsese biopic centers around henry hill and his friends as they work their way up through the mob hierarchy \n",
      "what 1991 movie featured jessica tandy in her best supporting actress oscar winning role of ninny threadgoode \n",
      "what 1991 musical comedy centers around characters janet and brad as they become game show contestants \n",
      "what 1993 drama film directed by steven speilberg featured liam neeson as schindler in nazi germany \n",
      "what 1995 chick flick starred clint eastwood as photographer robert kincaid and meryl streep as his short lived love interest \n",
      "what 1996 family movie depicts paul hogan as sandy ricks and elijah wood as his troubled nephew \n",
      "what 1999 movie found haley joel osment as cole sear a boy who communicated with spirits \n",
      "what 2005 ron howard biopic tells the story of james braddock a washed up boxer who came back to become a champion \n",
      "what 2007 biopic is about the story of jean dominique bauby and his trouble with locked in syndrome \n",
      "what 2008 japanese animated fantasy film written and directed by hayao miyazaki is about brunhilde the fish girl \n",
      "what 2009 rob zombie horror movie centers around character laurie strode and her brother michael \n",
      "what 2010 american supernatural film featured a group of strangers including arch angel micheal fighting for the fate of humanity \n",
      "what 2010 drama centered on the efforts of joan and aileen crowley to find a researcher who might develop a cure for their children s rare genetic disorder \n",
      "what 2010 movie finds superhero alter ego tony stark once again battling evil and saving the day \n",
      "what 2010 romantic comedy features anne hathaway as maggie murdock and jake gyllenhaal as jamie randall \n",
      "what 2010 sequel does michael douglas reprise his role as gordon gekko the infamous broker who coined greed is good \n",
      "what 2010 thriller set in 1954 finds u s marshal teddy daniels investigating the disappearance of a murderess who escaped a mental hospital \n",
      "what 2011 crime movie features ryan phillippe as louis roulet a man with a foolproof plan to beat the system \n",
      "what 2011 movie stars bradley cooper as writer eddie morra who discovers a top secret drug \n",
      "what 2011 thriller based on a fairy tail features a young woman named valerie and her love peter \n",
      "what 2011 thriller centered around character dominic toretto and his crew of street racers planning a massive heist \n",
      "what 2012 film by peter jackson goes back to the original story of bilbo told by j r r tolkien \n",
      "what 2012 superhero film starred anne hathaway as cat woman and tom hardy as bane \n",
      "what 2012 thriller finds retired cia operative bryan mills played by liam neeson and his wife played by famke janssen taken hostage \n",
      "what action film directed by tarsem singh starred henry cavill as theseus and freida pinto as phaedra \n",
      "what action movie featuring clint eastwood as a renegade cop harry callahand making his own rules delivering justice through this 44 magnum revolver \n",
      "what animated classic christmas movie features snoopy and a really pathetic beat up looking christmas tree \n",
      "what animated movie tells the story of simba who returns to his homeland to reclaim the crown from his uncle scar \n",
      "what black and white japanese classic epic features a story about 7 warriors facing unimaginable odds \n",
      "what blockbuster film stars liam nieson in his heart stopping thriller which takes place in a snowy wasteland \n",
      "what boxing centric movie inspired the character tag line of italian stallion and inspired legions of fans to workout to the song eye of the tiger \n",
      "what classic disney film takes place in africa and includes musical pieces such as hakkuna mattata \n",
      "what classic thriller about an enormous killer shark spawned one of the most popular movie themes of all time \n",
      "what film directed by david fincher tells of mark zuckerberg s rise to power and the creation of facebook \n",
      "what film introduced the knives for fingers character of freddy krueger that haunts the dreams of teenagers eventually killing them \n",
      "what intense gritty 2012 cop drama focuses on the day to day of two los angelos police officers \n",
      "what is that 2012 movie that stars liam neeson as zeus and ralph fiennes as hades \n",
      "what is that comedy film starring jon heder in a breakout role as an awkward teen and details his adventures in high school \n",
      "what is that movie 2012 biographical film co directed by curtis hanson about the life of jay moriarty \n",
      "what is that movie about the american cocaine smuggler george jung who is played by johnny depp \n",
      "what is that movie starring leonardo di caprio as howard hughes and chronicles his life \n",
      "what is that movie that details how mark zuckerberg created facebook and details facebook s early inception at harvard \n",
      "what is that satire movie the 1999 american comedy film which became a cult classic and starring ron livingston as a disgruntled employee \n",
      "what is the 1935 american comedy film opera singer riccardo baroni wishes to be just as good as lassparri and hires his best friend to be his manager \n",
      "what is the 1942 musical film staring bing crosby and fred astaire with music by irving berlin \n",
      "what is the 1950 american drama film which stars bette davis as margo channing an aging broadway actress \n",
      "what is the 1991 disney animated movie that featured angela lansbury as the voice of a teapot \n",
      "what is the 1995 american medieval movie starring richard gere as lancelot and sean connery as king arthur \n",
      "what is the 2004 horror film about victims chained in a bathroom and given rules to survive by a serial killer named jigsaw \n",
      "what is the 2010 american fantasy adventure movie based on the greek story of perseus starring sam worthington \n",
      "what is the 2010 american sci fi film released by walt disney pictures starring jeff bridges and had a soundtrack by french band daft punk \n",
      "what is the 2010 american western remake by the coen brothers that starred jeff bridges as us marshall reuben rooster cogburn \n",
      "what is the 2011 master piece with adam sandler and directed by dennis dugan and involves hawaii \n",
      "what is the animated movie from disney that took a fresh adventurous take on the fairy tale classic rapunzel \n",
      "what is the arguably most popular 1973 horror film about a young girl who is possessed by a demon \n",
      "what is the classic cartoon christmas movie based on a comic strip about a boy his friends his dog and a bird named woodstock \n",
      "what is the cult classic movie with keanu reeves in which he is called the one \n",
      "what is the disney film featuring a princess aurora who is put under a sleeping spell until awakened by a kiss \n",
      "what is the first movie in a series starring arnold schwarzenegger as a cyborg sent back in time to kill john connor the leader of a future resistance against the machines \n",
      "what is the fred astaire and judy garland movie with the song about a bonnet \n",
      "what is the marvel comic movie about the god of thunder who comes to earth and fights his brother loki \n",
      "what is the most recent bond film called with the new bond played by daniel craig \n",
      "what is the movie based on another jrr tolkien book but not the lord of the rings trilogy \n",
      "what is the movie starring russell crowe as the brilliant mathematician john nash and directed by ron howard \n",
      "what is the movie with liam neeson as zeus and sam worthington as perseus battling the forces of the underworld \n",
      "what is the movie with the rock and that guy who plays peeta mellark on hunger games \n",
      "what is the name of that superhero movie where clark kent is played by christopher reeve and lex luthor is played by gene hackman \n",
      "what is the name of the 1982 movie where rick deckard has to track down replicants who hijacked a ship in space and terminate them before they returned to earth to seek their maker \n",
      "what is the name of the 80 s movie about mozart that had a hit song with the same name \n",
      "what is the name of the disney movie where princess jazmine goes on a magic carpet ride with the lease character \n",
      "what is the name of the first film in the series that features the infamous jason voorhees \n",
      "what is the name of the master piece moved directed by francis lawrence and has robert pattinson in it \n",
      "what is the name of the movie in which christina aguilera pink mya and lil kim collaborated for the lead music track of the film \n",
      "what is the name of the movie in which gandalf and aragorn lead an army against sauron s army so frodo and same can get to mount doom \n",
      "what is the name of the movie where ash must battle an army of the dead and retrieve the necronomicon \n",
      "what is the pg 13 movie that was well known for having a curse word in its name \n",
      "what is the reboot of a popular marvel movie franchise with james mcavoy as a young professor x and michael fassbender as a young magneto \n",
      "what is the sequel to the science fiction movie with sigourney weaver returning as ellen ripley \n",
      "what is the super popular war movie with tom hanks and matt damon in which three of four brothers die in the war \n",
      "what is the third harry potter movie where dementors are on the move searching for the escapee from prison who ends up in the end being harry s godfather \n",
      "what is the updated version of romeo and juliet where a man and woman from two feuding gangs in new york fall in love and have to deal with the problems it causes \n",
      "what is the very famous clint eastwood movie about two bounty hunters who try to beat a third before they find buried treasure \n",
      "what is this 2009 film based on a true story that stars jim carrey as steven jay russell \n",
      "what is this classic horror flick that stars the toy chuckie \n",
      "what is this mind bending film directed by christopher nolan and starring leonardo dicaprio that takes place inside the mind \n",
      "what is this star studded action sequel that teams up slyvester stallone with bruce willis and arnold schwarzenegger \n",
      "what is this timeless classic that stars tom hanks as a prison guard \n",
      "what jerry zuker film starred richard gere as lancelot and sean connery as king arthur \n",
      "what movie based on the book by charles dickens follows the story of ebenezer scrooge as he is cold and eventually sees the error of his ways and reforms himself \n",
      "what movie is about the now fallen angel gabriel coming to save mankind from god s wraith \n",
      "what movie released in 2012 covers the story of a hobbit by the name of bilbo baggins and his dwarf friends seeking to reclaim his home \n",
      "what movie remake has jeff bridges filling in for john wayne as the famous one eyed rooster cogburn \n",
      "what movie starring sasha baron cohen features another character from his infamous and highly controversial show da ali g show \n",
      "what pixar animated film features a talking dog named dug \n",
      "what popular animated addition to the story about america s favorite ogre included rumpelstiltskin an evil magical contract writer \n",
      "what stanley kubric masterpiece is hailed as one of the greatest science fiction films ever made \n",
      "what stunning action film featured bane as a charismatic super villain trying to take over gothem \n",
      "what timeless classic starring clint eastwood does he carry a large firearm as a police officer \n",
      "what was that film about a speech therapist helping george vi learn to speak without a stutter \n",
      "what was that film that had queequeg and ishmael in it where they chased a whale \n",
      "what was the name of the 1975 mega hit thriller in which a great white shark menaced and munched on citizens of the beach resort town of amity during july 4 weekend \n",
      "what was the name of the movie where arnold schwarzenegger was a robot sent from the future to kill sara connor \n",
      "when a mad man calling himself the scorpio killer menaces the city tough as nails san francisco police inspector harry callahan is assigned to track down and ferret out the crazed psychopath \n",
      "which comedy classic featuring billy crystal and andre the giant tells the story of prince wesley as he tries to capture the affections and save the life of princess buttercup \n",
      "which ensemble film follows two hitmen to return a briefcase to their boss marsellus wallace \n",
      "which film starred vanessa hudgens in a modern day retelling of beauty and the beast \n",
      "which film stars macaulay culkin as kevin mccallister defending his home from a pair of robbers \n",
      "which francis ford coppola directed movie featured robert deniro playing a young don corleone in sicily \n",
      "which movie features the trials and tribulations of mark zuckerberg setting up his digital empire \n",
      "which musical set in 1950 s new york features two rival gangs the sharks and the jets playing out a modern day retelling of romeo and juliet \n",
      "whos brain did dr frankenstein put in the jar \n",
      "will forte plays an ex special operative trying to stop his arch enemy dieter von cunth from destroying washington d c \n",
      "young traveler allan gray discovers evidence of the supernatural in this black and white 1932 horror film \n",
      "done\n"
     ]
    }
   ],
   "metadata": {}
  },
  {
   "cell_type": "code",
   "execution_count": 18,
   "source": [
    "# Output the classification report (which you should save each time for comparing your models)\n",
    "print(\"#####################################################\")\n",
    "print(\"task 4 with POS tag\")\n",
    "print(classification_report(y_test, preds))\n",
    "print(precision_recall_fscore_support(y_test, preds, average='macro'\n",
    "))  # print out accurate macro score"
   ],
   "outputs": [
    {
     "output_type": "stream",
     "name": "stdout",
     "text": [
      "#####################################################\n",
      "task 4 with POS tag\n"
     ]
    },
    {
     "output_type": "stream",
     "name": "stderr",
     "text": [
      "/usr/local/lib/python3.9/site-packages/sklearn/metrics/_classification.py:1308: UndefinedMetricWarning: Precision and F-score are ill-defined and being set to 0.0 in labels with no predicted samples. Use `zero_division` parameter to control this behavior.\n",
      "  _warn_prf(average, modifier, msg_start, len(result))\n",
      "/usr/local/lib/python3.9/site-packages/sklearn/metrics/_classification.py:1308: UndefinedMetricWarning: Precision and F-score are ill-defined and being set to 0.0 in labels with no predicted samples. Use `zero_division` parameter to control this behavior.\n",
      "  _warn_prf(average, modifier, msg_start, len(result))\n"
     ]
    },
    {
     "output_type": "stream",
     "name": "stdout",
     "text": [
      "                  precision    recall  f1-score   support\n",
      "\n",
      "         B-Actor       0.92      0.89      0.90      1231\n",
      "         B-Award       0.76      0.64      0.70        75\n",
      "B-Character_Name       1.00      0.09      0.17       212\n",
      "      B-Director       0.91      0.75      0.82       472\n",
      "         B-Genre       0.91      0.82      0.87       805\n",
      "       B-Opinion       0.60      0.29      0.39       160\n",
      "        B-Origin       0.64      0.48      0.55       159\n",
      "          B-Plot       0.53      0.51      0.52      1221\n",
      "         B-Quote       0.75      0.25      0.38        24\n",
      "  B-Relationship       0.86      0.50      0.64       125\n",
      "    B-Soundtrack       0.00      0.00      0.00        13\n",
      "          B-Year       0.97      0.99      0.98       703\n",
      "         I-Actor       0.92      0.90      0.91      1731\n",
      "         I-Award       0.83      0.81      0.82       202\n",
      "I-Character_Name       1.00      0.10      0.19       165\n",
      "      I-Director       0.89      0.77      0.83       456\n",
      "         I-Genre       0.86      0.77      0.81       576\n",
      "       I-Opinion       0.35      0.32      0.34        84\n",
      "        I-Origin       0.72      0.78      0.75       729\n",
      "          I-Plot       0.84      0.96      0.89     11448\n",
      "         I-Quote       0.81      0.60      0.69       176\n",
      "  I-Relationship       0.61      0.47      0.53       240\n",
      "    I-Soundtrack       0.00      0.00      0.00        41\n",
      "          I-Year       0.82      0.82      0.82        33\n",
      "               O       0.89      0.84      0.86     10223\n",
      "\n",
      "        accuracy                           0.85     31304\n",
      "       macro avg       0.74      0.57      0.61     31304\n",
      "    weighted avg       0.85      0.85      0.84     31304\n",
      "\n",
      "(0.735893431110164, 0.5740153883520059, 0.6136360368542889, None)\n"
     ]
    },
    {
     "output_type": "stream",
     "name": "stderr",
     "text": [
      "/usr/local/lib/python3.9/site-packages/sklearn/metrics/_classification.py:1308: UndefinedMetricWarning: Precision and F-score are ill-defined and being set to 0.0 in labels with no predicted samples. Use `zero_division` parameter to control this behavior.\n",
      "  _warn_prf(average, modifier, msg_start, len(result))\n",
      "/usr/local/lib/python3.9/site-packages/sklearn/metrics/_classification.py:1308: UndefinedMetricWarning: Precision and F-score are ill-defined and being set to 0.0 in labels with no predicted samples. Use `zero_division` parameter to control this behavior.\n",
      "  _warn_prf(average, modifier, msg_start, len(result))\n"
     ]
    }
   ],
   "metadata": {}
  },
  {
   "cell_type": "code",
   "execution_count": 19,
   "source": [
    "def confusion_matrix_heatmap(y_test, preds):\n",
    "    \"\"\"Function to plot a confusion matrix\"\"\"\n",
    "    labels = list(set(y_test))   # get the labels in the y_test\n",
    "    print(labels)\n",
    "    cm = confusion_matrix(y_test, preds)\n",
    "    #cm = confusion_matrix(y_test, preds, labels) para erro\n",
    "    fig = plt.figure(figsize=(20,20))\n",
    "    ax = fig.add_subplot(111)\n",
    "    cax = ax.matshow(cm)\n",
    "    plt.title('Confusion matrix of the classifier')\n",
    "    fig.colorbar(cax)\n",
    "    ax.set_xticks(np.arange(len(labels)))\n",
    "    ax.set_yticks(np.arange(len(labels)))\n",
    "    ax.set_xticklabels( labels, rotation=45)\n",
    "    ax.set_yticklabels( labels)\n",
    "\n",
    "    for i in range(len(cm)):\n",
    "        for j in range(len(cm)):\n",
    "            text = ax.text(j, i, cm[i, j],\n",
    "                           ha=\"center\", va=\"center\", color=\"w\")\n",
    "\n",
    "    plt.xlabel('Predicted')\n",
    "    plt.ylabel('True')\n",
    "    #fig.tight_layout()\n",
    "    # fix for mpl bug that cuts off top/bottom of seaborn viz:\n",
    "    b, t = plt.ylim() # discover the values for bottom and top\n",
    "    b += 0.5 # Add 0.5 to the bottom\n",
    "    t -= 0.5 # Subtract 0.5 from the top\n",
    "    plt.ylim(b, t) # update the ylim(bottom, top) values\n",
    "    plt.show() # ta-da!"
   ],
   "outputs": [],
   "metadata": {}
  },
  {
   "cell_type": "code",
   "execution_count": 20,
   "source": [
    "confusion_matrix_heatmap(y_test, preds)"
   ],
   "outputs": [
    {
     "output_type": "stream",
     "name": "stdout",
     "text": [
      "['I-Actor', 'B-Year', 'B-Director', 'B-Relationship', 'B-Opinion', 'O', 'B-Origin', 'B-Genre', 'I-Year', 'B-Award', 'I-Soundtrack', 'I-Director', 'B-Actor', 'I-Quote', 'B-Quote', 'I-Character_Name', 'B-Plot', 'I-Plot', 'I-Relationship', 'I-Award', 'B-Character_Name', 'I-Opinion', 'I-Genre', 'I-Origin', 'B-Soundtrack']\n"
     ]
    },
    {
     "output_type": "display_data",
     "data": {
      "image/png": "[encoded data removed]",
      "text/plain": [
       "<Figure size 1440x1440 with 2 Axes>"
      ]
     },
     "metadata": {
      "needs_background": "light"
     }
    }
   ],
   "metadata": {}
  },
  {
   "cell_type": "code",
   "execution_count": 21,
   "source": [
    "# Let's see what the CRF learned by looking at the internal transition/feature weights...."
   ],
   "outputs": [],
   "metadata": {}
  },
  {
   "cell_type": "code",
   "execution_count": null,
   "source": [
    "def print_transition_weights(transitions):\n",
    "    \"\"\"Sort the transitions between states/labels from highest to\n",
    "    lowest strengths and print out.\"\"\"\n",
    "    ranked_transitions = [x for x in sorted(transitions,\n",
    "                                               key=lambda x:x[1], reverse=True)]\n",
    "    for (label_from, label_to), weight in ranked_transitions:\n",
    "        print(\"%0.6f %-8s -> %s\" % (weight, label_from, label_to))"
   ],
   "outputs": [],
   "metadata": {}
  },
  {
   "cell_type": "code",
   "execution_count": null,
   "source": [
    "print_transition_weights(ct._tagger.info().transitions.items())"
   ],
   "outputs": [],
   "metadata": {}
  },
  {
   "cell_type": "code",
   "execution_count": null,
   "source": [
    "def print_most_predictive_state_features(state_features,\n",
    "                                         excluded_classes=[\"O\"],\n",
    "                                         top_k=None):\n",
    "    \"\"\"Takes in the dict of state_features from a python crf-suite tagger,\n",
    "    orders them in terms of how predictive they are of different classes.\n",
    "    We assume we are not interested in O labels.\"\"\"\n",
    "    if not top_k:\n",
    "        top_k = len(state_features)  # assume we want to print all of them\n",
    "    ranked_state_features = [x for x in sorted(state_features, key=lambda x:x[1], reverse=True) \\\n",
    "         if x[0][1] not in excluded_classes][:top_k]\n",
    "    for (attr, label), weight in ranked_state_features:\n",
    "        print(\"%0.6f %-8s %s\" % (weight, label, attr))"
   ],
   "outputs": [],
   "metadata": {}
  },
  {
   "cell_type": "code",
   "execution_count": null,
   "source": [
    "print_most_predictive_state_features(ct._tagger.info().state_features.items())"
   ],
   "outputs": [],
   "metadata": {}
  },
  {
   "cell_type": "markdown",
   "source": [
    "# 1. Split the training data into 80% training, 20% development set (5 marks)\n",
    "Split the training data (`training_data`) into two lists: one split of the first 80% of the instances of `training_data`, which you will use for training your CRF, and the remaining 20% for testing. Once you've done this re-run the above code such that the tagger is trained on the 80% split and tested on the 20% split, and you obtain the classification report output and confusion heatmap output for the results of testing. Do not use the test data as it is above for testing/viewing results for now. Record the results by saving the classification report output as a string somewhere in the notebook for future reference as you go through.\n"
   ],
   "metadata": {}
  },
  {
   "cell_type": "markdown",
   "source": [
    "# 2. Error analysis 1: False positives (5 marks)\n",
    "\n",
    "Performing error analyses is a key part of improving your NLP applications. For the 5 classes which have the lowest precision, according to the results table from your 20% development data, print out all the sentences where there is a false positive for that class (i.e. the label is predicted in the predicted label for a given word by the tagger, but this is not present in the corresponding ground truth label for that word). HINT: This may most easily be achieved by editing the code above beginning `print(\"testing tagger...\")` and ending `print(\"done\")`. Have a look at these errors closely, and think about which features could be added to reduce the number of these errors.\n"
   ],
   "metadata": {}
  },
  {
   "cell_type": "markdown",
   "source": [
    "# 3. Error analysis 2: False negatives (5 marks)\n",
    "\n",
    "For the 5 classes which have the lowest recall, according to the results table from your 20% development data,, print out all the sentences where there is a false negative for that label (i.e. the label is present in the ground truth label for a given word, but that label is not predicted for that word by the tagger). HINT: This may most easily be achieved by editing the code above beginning `print(\"testing tagger...\")` and ending `print(\"done\")`. Have a look at these errors closely, and think about which features could be added to reduce the number of these errors.\n"
   ],
   "metadata": {}
  },
  {
   "cell_type": "markdown",
   "source": [
    "# 4. Incorporating POS tags as features (15 marks)\n",
    "Use the CRF part-of-speech (POS) tagger as shown below to add POS tags to the words in the training data. Do this by altering the `preProcess` function above. Note the CRF tagger only takes strings as input so you will have to concatenate the word and POS tag together (with a special symbol, e.g. @), and you will also have to then split on this special symbol in the feature extraction function `get_features` to get the word and POS tag - modify that function so it uses the POS tag in addition to the word (currently using the word only is achieved by `feature_list.append(\"WORD_\" + token)`. Re-run the training and testing code on your 80%/20% training/dev split from question 1 and record the results from the classification report as text in this file for comparison of the accuracy metrics against not using POS tags- try to see any improvemements across the classes."
   ],
   "metadata": {}
  },
  {
   "cell_type": "code",
   "execution_count": null,
   "source": [
    "# a postagger for use in exercises\n",
    "posttagger = CRFTagger()\n",
    "posttagger.set_model_file(\"crf_pos.tagger\")\n",
    "# example use:\n",
    "words = [\"john\", \"likes\", \"mary\", \"and\", \"bill\"]\n",
    "print(type(words))\n",
    "print(type(posttagger.tag(words)))\n",
    "print(posttagger.tag(words))"
   ],
   "outputs": [],
   "metadata": {}
  },
  {
   "cell_type": "markdown",
   "source": [
    "# 5. Feature experimentation and other optimization for optimal macro average (30 marks).\n",
    "Experiment with different features by further adjusting the `get_features` function, and modifying it to get the best results in terms of `macro average f-score` (i.e. average f-score across all classes) on your 20% development data. Iteratively try different functions, briefly describe the method and record the results in the classification report format and make sure you describe this in your report.\n",
    "\n",
    "Feature tips: You could try more suffixes/prefixes of the current word than those currently extracted, you could use windows of the next and previous tokens (of different sizes, e.g. the previous/next N words/tags). As you try different feature functions, use the techniques you used in Q2 and Q3 to see the kind of errors you are getting for lower performing classes, in addition to the confusion matrix over classes.\n",
    "\n",
    "Model tips: After your feature engineering, for even better performance you could try optimizing the hyperparameters by adjusting the `training_opt` dictionary values, experimenting with changing the minimum document frequency, c1 and c2 regularization parameters for https://www.nltk.org/api/nltk.tag.crf.html#nltk.tag.crf.CRFTagger.__init__ e.g. changing the initialization to make the minimum feature frequency 2 (rather than the default 1) would be:\n",
    "\n",
    "`ct = CRFTagger(feature_func=get_features, training_opt={\"feature.minfreq\":2})`\n",
    "\n",
    "Leave the `get_features` functions in the state you used to get the highest `macro average f-score` on your 20% development set, then re-train the model on ALL the training data and print the classification report for the original test data (i.e. from the test file `trivia10k13train.bio.txt`) as your final piece of code."
   ],
   "metadata": {}
  },
  {
   "cell_type": "code",
   "execution_count": null,
   "source": [
    "# Final results on original test data, using all training data, with best settings from dev set:\n",
    "\n",
    "# prepare the test data:\n",
    "raw_test_data = get_raw_data_from_bio_file(\"trivia10k13test.bio.txt\") \n",
    "test_data = [preProcess(example) for example in raw_test_data]\n",
    "print(len(test_data), \"instances\")\n",
    "print(sum([len(sent) for sent in test_data]), \"words\")\n",
    "\n",
    "\n",
    "# Train the CRF BIO-tag tagger on all training data\n",
    "TAGGER_PATH = \"crf_nlu.tagger\"  # path to the tagger- it will save/access the model from here\n",
    "ct = CRFTagger(feature_func=get_features, training_opt={\"feature.minfreq\":3})  # initialize tagger with get_features function\n",
    "\n",
    "print(\"training tagger...\")\n",
    "ct.train(training_data, TAGGER_PATH)\n",
    "print(\"done\")\n",
    "\n",
    "# load tagger from saved file\n",
    "ct = CRFTagger(feature_func=get_features)  # initialize tagger\n",
    "ct.set_model_file(TAGGER_PATH)  # load model from file\n",
    "\n",
    "print(len(test_data), \"instances\")\n",
    "print(sum([len(sent) for sent in test_data]), \"words\")\n",
    "\n",
    "print(\"testing tagger on test data...\")\n",
    "preds = []\n",
    "y_test = []\n",
    "for sent in test_data:\n",
    "    sent_preds = [x[1] for x in ct.tag([s[0] for s in sent])]\n",
    "    sent_true = [s[1] for s in sent]\n",
    "    preds.extend(sent_preds)\n",
    "    y_test.extend(sent_true)\n",
    "print(\"done\")"
   ],
   "outputs": [],
   "metadata": {}
  },
  {
   "cell_type": "code",
   "execution_count": null,
   "source": [
    "print(classification_report(y_test, preds))\n",
    "print(precision_recall_fscore_support(y_test, preds, average='macro'))"
   ],
   "outputs": [],
   "metadata": {}
  },
  {
   "cell_type": "code",
   "execution_count": null,
   "source": [],
   "outputs": [],
   "metadata": {}
  }
 ],
 "metadata": {
  "kernelspec": {
   "name": "python3",
   "display_name": "Python 3.9.8 64-bit"
  },
  "language_info": {
   "codemirror_mode": {
    "name": "ipython",
    "version": 3
   },
   "file_extension": ".py",
   "mimetype": "text/x-python",
   "name": "python",
   "nbconvert_exporter": "python",
   "pygments_lexer": "ipython3",
   "version": "3.9.8"
  },
  "interpreter": {
   "hash": "aee8b7b246df8f9039afb4144a1f6fd8d2ca17a180786b69acc140d282b71a49"
  }
 },
 "nbformat": 4,
 "nbformat_minor": 2
}